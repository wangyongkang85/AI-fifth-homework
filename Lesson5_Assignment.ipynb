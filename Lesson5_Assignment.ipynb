{
 "cells": [
  {
   "cell_type": "markdown",
   "metadata": {},
   "source": [
    "各位同学，大家好!  欢迎各位开始学习我们的人工智能课程。  \n",
    "这门课程假设大家不具备机器学习和人工智能的知识，但是希望大家具备初级的Python编程能力。  \n",
    "这门课程结束后，希望大家掌握Python语言以及人工智能基础知识，对CV，NLP，RS领域有一定深入的理解与编程能力。"
   ]
  },
  {
   "cell_type": "markdown",
   "metadata": {},
   "source": [
    "# 本次作业要求"
   ]
  },
  {
   "cell_type": "markdown",
   "metadata": {},
   "source": [
    "## 作业形式"
   ]
  },
  {
   "cell_type": "markdown",
   "metadata": {},
   "source": [
    "复现课程代码  \n",
    "完成课后作业"
   ]
  },
  {
   "cell_type": "markdown",
   "metadata": {},
   "source": [
    "## 作业提交方式"
   ]
  },
  {
   "cell_type": "markdown",
   "metadata": {},
   "source": [
    "完成填写此`jupyter`文件，提交至自己的github，或通过KKB作业平台提交附件"
   ]
  },
  {
   "cell_type": "markdown",
   "metadata": {},
   "source": [
    "## 作业截止时间"
   ]
  },
  {
   "cell_type": "markdown",
   "metadata": {},
   "source": [
    "每次课程作业都会在下次课程(2019年11月8日)进行讲解，请在一周内尽快提交。  \n",
    "此次作业批改截止时间：2019年11月15日"
   ]
  },
  {
   "cell_type": "markdown",
   "metadata": {},
   "source": [
    "# 完成以下问答和编程练习"
   ]
  },
  {
   "cell_type": "markdown",
   "metadata": {},
   "source": [
    "**理论部分**\n",
    "1. 验证多重继承的属性规则，请选择\n",
    "- 就近原则\n",
    "- 随机原则\n",
    "- 类定义的先后原则"
   ]
  },
  {
   "cell_type": "code",
   "execution_count": 1,
   "metadata": {},
   "outputs": [
    {
     "name": "stdout",
     "output_type": "stream",
     "text": [
      "A0\n",
      "1\n"
     ]
    }
   ],
   "source": [
    "class A0:\n",
    "    name = 'A0'\n",
    "    \n",
    "class A2(A0):\n",
    "    num = 2\n",
    "    \n",
    "class A1:\n",
    "    num = 1\n",
    "    \n",
    "class A3:\n",
    "    name = 'A3'\n",
    "    \n",
    "class A4(A1,A2,A3):\n",
    "    pass\n",
    " \n",
    "ins = A4()\n",
    "print(ins.name) # \n",
    "print(ins.num) # "
   ]
  },
  {
   "cell_type": "markdown",
   "metadata": {},
   "source": [
    "**编程实践部分**"
   ]
  },
  {
   "cell_type": "markdown",
   "metadata": {},
   "source": [
    "1. 完成ATM的类实现  \n",
    "将第二次课程的ATM机器改写成类实现"
   ]
  },
  {
   "cell_type": "code",
   "execution_count": null,
   "metadata": {},
   "outputs": [],
   "source": [
    "class account:#定义用户的账户信息类\n",
    "    def __init__(self,name,password,balance):\n",
    "        self.name = name\n",
    "        self.password = password\n",
    "        self.balance = balance\n",
    "    def show_book_info(self):\n",
    "        return '姓名:{}\\t 密码:{}\\t 余额:{}\\t'.format(self.name,self.password,self.balance)        \n",
    "#Account1=account('0001','123456','10000')\n",
    "#print(Account1.show_book_info())\n",
    "class ATM():\n",
    "    Accounts=[]#定义所有用户的账户信息\n",
    "    Account_personal=[]#定义单个用户的信息\n",
    "    def __init__(self):#初始化用户的账户信息\n",
    "        \"\"\"\n",
    "        姓名，密码，余额\n",
    "        \"\"\"\n",
    "        Account1=account('0001','123456','10000')\n",
    "        Account2=account('0002','000000','20000')\n",
    "        Account3=account('0003','111111','30000')\n",
    "        self.Accounts.append(Account1)\n",
    "        self.Accounts.append(Account2)\n",
    "        self.Accounts.append(Account3)\n",
    "    def input_password(self):#定义输入账户和密码方法\n",
    "        while True:\n",
    "            account_name=str(input('请输入您的账户：'))#输入账户\n",
    "            for Account in self.Accounts:\n",
    "                input_password_count=1#记录输入密码次数，大于3时退出\n",
    "                while account_name==Account.name:#查看账户名称是否正确\n",
    "                     account_password=str(input('请输入您的密码：'))#输入密码\n",
    "                     if account_password!=Account.password and input_password_count<=3:#密码错误，且输入次数小于3时\n",
    "                         print(\"请重新输入您的密码！！！\")\n",
    "                         input_password_count=input_password_count+1\n",
    "                     elif account_password==Account.password and input_password_count<=3:#密码正确，执行下一步\n",
    "                         self.Account_personal.append(Account.name)\n",
    "                         self.Account_personal.append(Account.password)\n",
    "                         self.Account_personal.append(Account.balance)\n",
    "                         self.Menu()\n",
    "                         self.Account_personal.clear()\n",
    "                         break#退出到输入账户界面\n",
    "                     elif input_password_count>3:\n",
    "                         print(\"密码输入已经超过三次，强制退出！！！\")\n",
    "                         exit()#强制退出\n",
    "            #break\n",
    "    def Menu(self):#定义ATM菜单\n",
    "        while True:\n",
    "            print(\"\"\"\n",
    "            0.查询余额\n",
    "            1.存款\n",
    "            2.取款\n",
    "            3.退出\n",
    "            \"\"\")\n",
    "            choice=int(input('请选择您要使用的功能(数字)：'))\n",
    "            if choice==0:\n",
    "                self.Check_Balance()\n",
    "            elif choice==1:\n",
    "                self.Deposit()\n",
    "            elif choice==2:\n",
    "                self.Withdraw()\n",
    "            elif choice==3:\n",
    "                print(\"谢谢使用！\")\n",
    "                break\n",
    "            else:\n",
    "                print(\"输入错误，请重新输入！！！！\")\n",
    "        \n",
    "    def Check_Balance(self):#定义查询余额方法\n",
    "        print(\"您当前的余额为：\"+self.Account_personal[2])\n",
    "    def Deposit(self):#定义存款方法\n",
    "        try:\n",
    "            deposit=abs(int(input(\"请输入当前的存款金额：\")))#输入必须为正整数\n",
    "        except Exception:\n",
    "            print(\"输入错误\")\n",
    "            self.Deposit()\n",
    "        self.Account_personal[2]=str(int(self.Account_personal[2])+deposit)\n",
    "    def Withdraw(self):#定义取款方法\n",
    "        try:\n",
    "           withdraw=abs(int(input(\"请输入当前的取款金额：\")))#输入必须为正整数\n",
    "        except Exception:\n",
    "            print(\"输入错误\")\n",
    "            self.Withdraw()\n",
    "        if int(self.Account_personal[2])<withdraw:\n",
    "            print(\"余额不足，请重新输入\")\n",
    "            self.Withdraw()\n",
    "        else:\n",
    "            self.Account_personal[2]=str(int(self.Account_personal[2])-withdraw)\n",
    "aaa= ATM()\n",
    "aaa.input_password()\n"
   ]
  },
  {
   "cell_type": "markdown",
   "metadata": {},
   "source": [
    "2. 练习会先提供一个李靖类，用以记录人物角色的战斗力。需要你创建一个子类哪吒类，提供属性和参数的修改。  \n",
    "要求： 在哪吒的初始化方法中，默认添加`['混天绫', '乾坤圈']` 两个装备,以及初始化战斗力为50."
   ]
  },
  {
   "cell_type": "code",
   "execution_count": null,
   "metadata": {},
   "outputs": [],
   "source": [
    "# 代码不用修改，读懂后运行即可。\n",
    "class Lijing: # 李靖\n",
    "    # 初始化函数，为每个实例创建4个参数（其中后3个参数有默认值）\n",
    "    def __init__(self, name, weapons=[], power=10): \n",
    "        self.name = name\n",
    "        self.weapons = weapons\n",
    "        self.power = power\n",
    "\n",
    "    def count_fight(self, weapon, weapon_power):\n",
    "        self.weapons.append(weapon)\n",
    "        self.power += weapon_power  # 总战力=武器战力之和\n",
    "\n",
    "lijing = Lijing('李靖')\n",
    "print(lijing.weapons)\n",
    "lijing.count_fight('七宝玲珑塔', 50)  # 七宝玲珑塔 战力 50\n",
    "print(lijing.power)"
   ]
  },
  {
   "cell_type": "code",
   "execution_count": null,
   "metadata": {},
   "outputs": [],
   "source": [
    "class Lijing: # 李靖\n",
    "    # 初始化函数，为每个实例创建4个参数（其中后3个参数有默认值）\n",
    "    def __init__(self, name, weapons=[], power=10): \n",
    "        self.name = name\n",
    "        self.weapons = weapons\n",
    "        self.power = power\n",
    "\n",
    "    def count_fight(self, weapon, weapon_power):\n",
    "        self.weapons.append(weapon)\n",
    "        self.power += weapon_power  # 总战力=武器战力之和\n",
    "        \n",
    "# your code here        \n",
    "# 请你完成子类的定制（包括初始化方法和count_fight函数）\n",
    "class Nezha(Lijing): # 哪吒\n",
    "    def __init__(self,name):\n",
    "        Lijing.__init__(self, name, weapons=[\"乾坤圈\",\"混天绫\"], power=50)\n",
    "    def conunt_fight(self):\n",
    "         Lijing.count_fight(self, weapon, weapon_power)\n",
    "# 通过两个实例，完成子类和父类的对比（可自行验证）\n",
    "lijing = Lijing('李靖')\n",
    "nezha = Nezha('哪吒')\n",
    "print(lijing.weapons)\n",
    "print(nezha.weapons)\n",
    "lijing.count_fight('七宝玲珑塔', 50)  # 七宝玲珑塔 战力 50\n",
    "print(lijing.weapons)\n",
    "print(lijing.power)\n",
    "nezha.count_fight('火尖枪', 40)  #\n",
    "print(nezha.weapons)\n",
    "print(nezha.power)"
   ]
  },
  {
   "cell_type": "code",
   "execution_count": null,
   "metadata": {},
   "outputs": [],
   "source": []
  }
 ],
 "metadata": {
  "kernelspec": {
   "display_name": "Python 3",
   "language": "python",
   "name": "python3"
  },
  "language_info": {
   "codemirror_mode": {
    "name": "ipython",
    "version": 3
   },
   "file_extension": ".py",
   "mimetype": "text/x-python",
   "name": "python",
   "nbconvert_exporter": "python",
   "pygments_lexer": "ipython3",
   "version": "3.6.4"
  }
 },
 "nbformat": 4,
 "nbformat_minor": 4
}
